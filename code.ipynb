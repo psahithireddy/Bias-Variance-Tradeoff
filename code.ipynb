{
 "cells": [
  {
   "cell_type": "code",
   "execution_count": 1,
   "metadata": {},
   "outputs": [
    {
     "ename": "ModuleNotFoundError",
     "evalue": "No module named 'numpy'",
     "output_type": "error",
     "traceback": [
      "\u001b[0;31m---------------------------------------------------------------------------\u001b[0m",
      "\u001b[0;31mModuleNotFoundError\u001b[0m                       Traceback (most recent call last)",
      "\u001b[0;32m<ipython-input-1-525ed5aeffee>\u001b[0m in \u001b[0;36m<module>\u001b[0;34m\u001b[0m\n\u001b[0;32m----> 1\u001b[0;31m \u001b[0;32mimport\u001b[0m \u001b[0mnumpy\u001b[0m \u001b[0;32mas\u001b[0m \u001b[0mnp\u001b[0m\u001b[0;34m\u001b[0m\u001b[0;34m\u001b[0m\u001b[0m\n\u001b[0m\u001b[1;32m      2\u001b[0m \u001b[0;32mimport\u001b[0m \u001b[0mpickle\u001b[0m\u001b[0;34m\u001b[0m\u001b[0;34m\u001b[0m\u001b[0m\n\u001b[1;32m      3\u001b[0m \u001b[0;32mimport\u001b[0m \u001b[0mmatplotlib\u001b[0m\u001b[0;34m.\u001b[0m\u001b[0mpyplot\u001b[0m \u001b[0;32mas\u001b[0m \u001b[0mplot\u001b[0m\u001b[0;34m\u001b[0m\u001b[0;34m\u001b[0m\u001b[0m\n\u001b[1;32m      4\u001b[0m \u001b[0;32mfrom\u001b[0m \u001b[0msklearn\u001b[0m\u001b[0;34m.\u001b[0m\u001b[0mpreprocessing\u001b[0m \u001b[0;32mimport\u001b[0m \u001b[0mPolynomialFeatures\u001b[0m\u001b[0;34m\u001b[0m\u001b[0;34m\u001b[0m\u001b[0m\n\u001b[1;32m      5\u001b[0m \u001b[0;32mfrom\u001b[0m \u001b[0msklearn\u001b[0m\u001b[0;34m.\u001b[0m\u001b[0mlinear_model\u001b[0m \u001b[0;32mimport\u001b[0m \u001b[0mLinearRegression\u001b[0m\u001b[0;34m\u001b[0m\u001b[0;34m\u001b[0m\u001b[0m\n",
      "\u001b[0;31mModuleNotFoundError\u001b[0m: No module named 'numpy'"
     ]
    }
   ],
   "source": [
    "import numpy as np\n",
    "import pickle \n",
    "import matplotlib.pyplot as plot\n",
    "from sklearn.preprocessing import PolynomialFeatures\n",
    "from sklearn.linear_model import LinearRegression\n",
    "import pandas as pd"
   ]
  },
  {
   "cell_type": "code",
   "execution_count": 14,
   "metadata": {},
   "outputs": [],
   "source": [
    "#get train data\n",
    "with open('./data/train.pkl', 'rb') as train:\n",
    "    data1 = pickle.load(train)\n",
    "    \n",
    "#shuffle data everytime to get diff models\n",
    "np.random.shuffle(data1)\n",
    "\n",
    "#getting x and y coordinates separately\n",
    "x_tr=data1[:,:-1]\n",
    "y_tr=data1[:,1]\n",
    "\n",
    "#get test data\n",
    "with open('./data/test.pkl','rb') as test:\n",
    "    data2 = pickle.load(test)\n",
    "x_test=data2[:,:-1]\n",
    "y_test=data2[:,1]\n",
    "#print(y_test)\n",
    "#split train data into 10 sets\n",
    "x_train=np.array(np.array_split(x_tr,10))\n",
    "y_train=np.array(np.array_split(y_tr,10))"
   ]
  },
  {
   "cell_type": "code",
   "execution_count": 15,
   "metadata": {},
   "outputs": [],
   "source": [
    "bias=np.zeros(21)\n",
    "biassq=np.zeros(21)\n",
    "variance=np.zeros(21)\n",
    "degree=np.zeros(21)\n",
    "irred_error=np.zeros(21)\n",
    "tot_err = np.zeros(21)"
   ]
  },
  {
   "cell_type": "code",
   "execution_count": 16,
   "metadata": {},
   "outputs": [],
   "source": [
    "reg = LinearRegression()\n",
    "\n",
    "#for each degree run fit on 10 models,800 data points each,pass test data and get output\n",
    "for i in range(1,21): \n",
    "    difference = np.zeros((10,80))\n",
    "    temp=np.zeros(80)\n",
    "    #create output array to get predicted values\n",
    "    y_return=np.zeros((10,80)) \n",
    "    for j in range(10):\n",
    "        polynomial = PolynomialFeatures(degree=i , include_bias=False)\n",
    "        \n",
    "        X_TRAIN = polynomial.fit_transform(x_train[j])\n",
    "        X_TEST = polynomial.fit_transform(x_test)\n",
    "        \n",
    "        reg.fit(X_TRAIN , y_train[j])\n",
    "        \n",
    "        prediction = []\n",
    "        prediction = (reg.predict(X_TEST))\n",
    "        y_return[j]=prediction\n",
    "        difference[j] = ((y_test - y_return[j])**2)\n",
    "    \n",
    "    #getting average mse\n",
    "    for j in range (10):\n",
    "        temp += difference[j]\n",
    "    temp /= 10\n",
    "    tot_err[i] = np.mean(temp)\n",
    "    \n",
    "    #for each degree ,calculate bias\n",
    "    y_mean=np.mean(y_return,axis=0)\n",
    "    bias[i]=np.mean(abs(y_mean - y_test))\n",
    "    biassq[i] = np.mean((y_mean - y_test)**2)\n",
    "    \n",
    "    # for each degree , calculate variance\n",
    "    y_var=np.var(y_return,axis=0)\n",
    "    variance[i]=np.mean(y_var)\n",
    "   \n",
    "    \n",
    "    #calculate irreducible error\n",
    "    irred_error[i]=np.mean(temp) - (biassq[i] +variance[i]) \n",
    "    "
   ]
  },
  {
   "cell_type": "code",
   "execution_count": 17,
   "metadata": {},
   "outputs": [
    {
     "name": "stdout",
     "output_type": "stream",
     "text": [
      " Degree        Bias       Variance  irreducible error\n",
      "      0         NaN            NaN                NaN\n",
      "      1  820.268221   46446.687158       0.000000e+00\n",
      "      2  811.612270   58673.448148       1.164153e-10\n",
      "      3   66.123389   63725.028011       0.000000e+00\n",
      "      4   74.225810   77405.090757       1.455192e-11\n",
      "      5   72.289218  104279.898978       2.910383e-11\n",
      "      6   72.985829  133633.620068       0.000000e+00\n",
      "      7   70.865258  160916.911216       0.000000e+00\n",
      "      8   73.595119  176260.947225       2.910383e-11\n",
      "      9   76.803975  214270.204269       0.000000e+00\n",
      "     10   83.318402  176937.909389       2.910383e-11\n",
      "     11   77.791108  200060.055803       0.000000e+00\n",
      "     12  123.318795  212272.016579       8.731149e-11\n",
      "     13   78.935074  197754.158486       0.000000e+00\n",
      "     14  123.679830  174268.786292       2.910383e-11\n",
      "     15  160.250865  185166.879253       0.000000e+00\n",
      "     16  165.660688  200859.646673       5.820766e-11\n",
      "     17  240.329606  218781.869816       0.000000e+00\n",
      "     18  241.815611  232684.298245       0.000000e+00\n",
      "     19  310.579571  256674.011742       1.746230e-10\n",
      "     20  310.348345  267014.253421       0.000000e+00\n"
     ]
    }
   ],
   "source": [
    "bias[0]=None\n",
    "biassq[0]=None\n",
    "variance[0]=None\n",
    "irred_error[0]=None    \n",
    "tot_err[0]=None\n",
    "table_bias=pd.DataFrame({'Degree':np.array(range(0,21)),'Bias':bias,'Variance': variance, \\\n",
    "                          'irreducible error': irred_error})\n",
    "print(table_bias.to_string(index=False))"
   ]
  },
  {
   "cell_type": "code",
   "execution_count": 21,
   "metadata": {},
   "outputs": [
    {
     "data": {
      "text/plain": [
       "<matplotlib.legend.Legend at 0x7f37ebb32240>"
      ]
     },
     "execution_count": 21,
     "metadata": {},
     "output_type": "execute_result"
    },
    {
     "data": {
      "image/png": "[encoded data removed]",
      "text/plain": [
       "<Figure size 432x288 with 1 Axes>"
      ]
     },
     "metadata": {
      "needs_background": "light"
     },
     "output_type": "display_data"
    }
   ],
   "source": [
    "plot.xlabel('Model Complexity') \n",
    "plot.ylabel('Error') \n",
    "plot.title(\"Bias^2 vs Variance\") \n",
    "#plotting the graph og bias square and variance\n",
    "plot.plot(tot_err,label='total error', color = 'green')\n",
    "# plot.plot(bias**2,label='Bias^2', color = 'blue')\n",
    "plot.plot(biassq,label='Bias^2', color = 'blue')\n",
    "plot.plot(variance,label='Variance', color = 'red')\n",
    "\n",
    "plot.legend()"
   ]
  },
  {
   "cell_type": "code",
   "execution_count": null,
   "metadata": {},
   "outputs": [],
   "source": []
  },
  {
   "cell_type": "code",
   "execution_count": null,
   "metadata": {},
   "outputs": [],
   "source": []
  },
  {
   "cell_type": "code",
   "execution_count": null,
   "metadata": {},
   "outputs": [],
   "source": []
  }
 ],
 "metadata": {
  "kernelspec": {
   "display_name": "Python 3",
   "language": "python",
   "name": "python3"
  },
  "language_info": {
   "codemirror_mode": {
    "name": "ipython",
    "version": 3
   },
   "file_extension": ".py",
   "mimetype": "text/x-python",
   "name": "python",
   "nbconvert_exporter": "python",
   "pygments_lexer": "ipython3",
   "version": "3.7.5"
  }
 },
 "nbformat": 4,
 "nbformat_minor": 4
}
